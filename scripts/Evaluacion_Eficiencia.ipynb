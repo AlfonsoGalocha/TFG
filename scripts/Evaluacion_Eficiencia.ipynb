{
 "cells": [
  {
   "cell_type": "markdown",
   "id": "5e75d269",
   "metadata": {},
   "source": [
    "# Evaluación de Eficiencia de Modelos\n",
    "\n",
    "En este cuaderno se evalúa la eficiencia computacional de los modelos entrenados: **Random Forest**, **Regresión Logística** y **SVM**. Esta evaluación se centra en:\n",
    "\n",
    "- Tiempo de inferencia (tiempo que tarda cada modelo en realizar una predicción)\n",
    "- Capacidad de uso en tiempo real o entornos con recursos limitados\n",
    "- Especificaciones del sistema utilizado para la evaluación\n",
    "\n",
    "Este análisis complementa la evaluación métrica tradicional (F1-score, AUC) proporcionando una visión más práctica sobre el comportamiento de los modelos en producción.\n"
   ]
  },
  {
   "cell_type": "markdown",
   "id": "2839984b",
   "metadata": {},
   "source": [
    "## Carga de Modelos Entrenados\n",
    "\n",
    "En este notebook se comparan los tres modelos entrenados previamente: **Random Forest**, **Regresión Logística** y **SVM (kernel RBF con subconjunto reducido)**.\n",
    "\n",
    "Se cargan directamente desde los archivos `.pkl` guardados durante el entrenamiento, permitiendo reutilizarlos sin volver a entrenarlos. Esto garantiza reproducibilidad y eficiencia en la evaluación final.\n"
   ]
  },
  {
   "cell_type": "code",
   "execution_count": 2,
   "id": "c9e7215d",
   "metadata": {},
   "outputs": [
    {
     "name": "stdout",
     "output_type": "stream",
     "text": [
      "Modelos cargados correctamente:\n",
      "- Random Forest\n",
      "- Logistic Regression\n",
      "- SVM (entrenado con 10,000 muestras)\n"
     ]
    }
   ],
   "source": [
    "import joblib\n",
    "\n",
    "# Cargar modelos previamente guardados\n",
    "rf_model = joblib.load(\"../models/random_forest_model.pkl\")\n",
    "lr_model = joblib.load(\"../models/logistic_regression_model.pkl\")\n",
    "svm_model = joblib.load(\"../models/svm_model.pkl\")\n",
    "\n",
    "print(\"Modelos cargados correctamente:\")\n",
    "print(\"- Random Forest\")\n",
    "print(\"- Logistic Regression\")\n",
    "print(\"- SVM (entrenado con 10,000 muestras)\")\n"
   ]
  },
  {
   "cell_type": "markdown",
   "id": "15d4c4d7",
   "metadata": {},
   "source": []
  },
  {
   "cell_type": "code",
   "execution_count": 4,
   "id": "01c14919",
   "metadata": {},
   "outputs": [
    {
     "data": {
      "text/html": [
       "<div>\n",
       "<style scoped>\n",
       "    .dataframe tbody tr th:only-of-type {\n",
       "        vertical-align: middle;\n",
       "    }\n",
       "\n",
       "    .dataframe tbody tr th {\n",
       "        vertical-align: top;\n",
       "    }\n",
       "\n",
       "    .dataframe thead th {\n",
       "        text-align: right;\n",
       "    }\n",
       "</style>\n",
       "<table border=\"1\" class=\"dataframe\">\n",
       "  <thead>\n",
       "    <tr style=\"text-align: right;\">\n",
       "      <th></th>\n",
       "      <th>Modelo</th>\n",
       "      <th>F1-score</th>\n",
       "      <th>AUC</th>\n",
       "    </tr>\n",
       "  </thead>\n",
       "  <tbody>\n",
       "    <tr>\n",
       "      <th>0</th>\n",
       "      <td>Random Forest</td>\n",
       "      <td>0.9999</td>\n",
       "      <td>1.0000</td>\n",
       "    </tr>\n",
       "    <tr>\n",
       "      <th>1</th>\n",
       "      <td>Logistic Regression</td>\n",
       "      <td>0.9916</td>\n",
       "      <td>0.9992</td>\n",
       "    </tr>\n",
       "    <tr>\n",
       "      <th>2</th>\n",
       "      <td>SVM (RBF, 10k)</td>\n",
       "      <td>0.8252</td>\n",
       "      <td>0.6713</td>\n",
       "    </tr>\n",
       "  </tbody>\n",
       "</table>\n",
       "</div>"
      ],
      "text/plain": [
       "                Modelo  F1-score     AUC\n",
       "0        Random Forest    0.9999  1.0000\n",
       "1  Logistic Regression    0.9916  0.9992\n",
       "2       SVM (RBF, 10k)    0.8252  0.6713"
      ]
     },
     "execution_count": 4,
     "metadata": {},
     "output_type": "execute_result"
    }
   ],
   "source": [
    "from sklearn.metrics import f1_score, roc_auc_score\n",
    "\n",
    "# Asegúrate de que tienes X_test e y_test cargados desde el dataset limpio\n",
    "import pandas as pd\n",
    "\n",
    "# Cargar el dataset limpio y dividir\n",
    "df = pd.read_csv(\"../archive/cleaned_dataset.csv\")\n",
    "X = df.drop(columns=[\"Label\"])\n",
    "y = df[\"Label\"]\n",
    "\n",
    "# División en test para evaluación (20% del total, como antes)\n",
    "from sklearn.model_selection import train_test_split\n",
    "_, X_test, _, y_test = train_test_split(X, y, test_size=0.2, stratify=y, random_state=42)\n",
    "\n",
    "# Obtener predicciones y probabilidades (cuando sea posible)\n",
    "y_pred_rf = rf_model.predict(X_test)\n",
    "y_prob_rf = rf_model.predict_proba(X_test)[:, 1]\n",
    "\n",
    "y_pred_lr = lr_model.predict(X_test)\n",
    "y_prob_lr = lr_model.predict_proba(X_test)[:, 1]\n",
    "\n",
    "y_pred_svm = svm_model.predict(X_test)\n",
    "y_score_svm = svm_model.decision_function(X_test)  # no .predict_proba()\n",
    "\n",
    "# Calcular métricas\n",
    "resultados = pd.DataFrame({\n",
    "    \"Modelo\": [\"Random Forest\", \"Logistic Regression\", \"SVM (RBF, 10k)\"],\n",
    "    \"F1-score\": [\n",
    "        f1_score(y_test, y_pred_rf),\n",
    "        f1_score(y_test, y_pred_lr),\n",
    "        f1_score(y_test, y_pred_svm)\n",
    "    ],\n",
    "    \"AUC\": [\n",
    "        roc_auc_score(y_test, y_prob_rf),\n",
    "        roc_auc_score(y_test, y_prob_lr),\n",
    "        roc_auc_score(y_test, y_score_svm)\n",
    "    ]\n",
    "})\n",
    "\n",
    "# Redondear para mejor visualización\n",
    "resultados[\"F1-score\"] = resultados[\"F1-score\"].round(4)\n",
    "resultados[\"AUC\"] = resultados[\"AUC\"].round(4)\n",
    "\n",
    "resultados\n"
   ]
  },
  {
   "cell_type": "markdown",
   "id": "3fe7457e",
   "metadata": {},
   "source": [
    "## Análisis Comparativo de Métricas de Clasificación\n",
    "\n",
    "La siguiente tabla muestra los resultados de evaluación obtenidos por los tres modelos entrenados y probados sobre el mismo conjunto de datos:\n",
    "\n",
    "| Modelo              | F1-score | AUC   |\n",
    "|---------------------|----------|-------|\n",
    "| Random Forest       | 0.9999   | 1.0000 |\n",
    "| Logistic Regression | 0.9916   | 0.9992 |\n",
    "| SVM (RBF, 10k)      | 0.8252   | 0.6713 |\n",
    "\n",
    "### Interpretación:\n",
    "\n",
    "- **Random Forest** obtuvo resultados perfectos en ambas métricas, lo que indica una separación total entre clases. Esto se alinea con los resultados observados en la matriz de confusión y curva ROC, donde no se produjeron errores. Sin embargo, su interpretabilidad es menor que la de otros modelos.\n",
    "\n",
    "- **Regresión Logística** también mostró un rendimiento prácticamente perfecto. Aunque es un modelo mucho más simple, logró un F1-score y AUC cercanos a 1.0. Este resultado refuerza la idea de que el dataset CICIDS2017 permite separar las clases incluso con modelos lineales bien ajustados. Además, su interpretabilidad y eficiencia computacional son ventajas destacadas.\n",
    "\n",
    "- **SVM** (entrenado con un subconjunto de 10,000 muestras debido a restricciones de tiempo y coste computacional) obtuvo un rendimiento claramente inferior. El F1-score de 0.83 y AUC de 0.67 indican que, aunque el modelo es capaz de detectar algunos ataques, genera muchos falsos positivos. Este resultado es consistente con lo observado en la matriz de confusión y la curva ROC del modelo SVM. A pesar de su sensibilidad, su utilidad práctica se ve limitada sin ajustes adicionales.\n",
    "\n",
    "### Conclusión:\n",
    "\n",
    "Los resultados confirman que, para este dataset, los modelos Random Forest y Regresión Logística ofrecen una detección muy precisa del tráfico malicioso. La regresión logística, además, lo consigue con una estructura más sencilla y un coste computacional más bajo, lo que la convierte en una opción especialmente interesante cuando se requiere interpretabilidad o rapidez. SVM, aunque potente teóricamente, no resulta competitivo en este caso sin un mayor ajuste y entrenamiento completo.\n"
   ]
  }
 ],
 "metadata": {
  "kernelspec": {
   "display_name": "Python 3",
   "language": "python",
   "name": "python3"
  },
  "language_info": {
   "codemirror_mode": {
    "name": "ipython",
    "version": 3
   },
   "file_extension": ".py",
   "mimetype": "text/x-python",
   "name": "python",
   "nbconvert_exporter": "python",
   "pygments_lexer": "ipython3",
   "version": "3.10.12"
  }
 },
 "nbformat": 4,
 "nbformat_minor": 5
}
