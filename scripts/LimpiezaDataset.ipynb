{
 "cells": [
  {
   "cell_type": "markdown",
   "metadata": {},
   "source": [
    "## Limpieza del Dataset"
   ]
  },
  {
   "cell_type": "code",
   "execution_count": 31,
   "metadata": {},
   "outputs": [],
   "source": [
    "import pandas as pd\n",
    "from sklearn.preprocessing import LabelEncoder, StandardScaler"
   ]
  },
  {
   "cell_type": "markdown",
   "metadata": {},
   "source": [
    "#### PASO 1: Cargar el Dataset"
   ]
  },
  {
   "cell_type": "code",
   "execution_count": 32,
   "metadata": {},
   "outputs": [],
   "source": [
    "#En este paso, cargamos el archivo CSV con los datos de tráfico de red. \n",
    "\n",
    "df = pd.read_csv(\"archive/Friday-WorkingHours-Afternoon-DDos.pcap_ISCX.csv\")\n"
   ]
  },
  {
   "cell_type": "markdown",
   "metadata": {},
   "source": [
    "##### Detalles del dataset\n",
    "Estamos cargando un CSV que contiene una lista de logs en los que hay posibles ataques DDos"
   ]
  },
  {
   "cell_type": "code",
   "execution_count": 33,
   "metadata": {},
   "outputs": [
    {
     "name": "stdout",
     "output_type": "stream",
     "text": [
      "\n",
      "### Primeras filas del dataset:\n",
      "    Destination Port   Flow Duration   Total Fwd Packets  \\\n",
      "0              54865               3                   2   \n",
      "1              55054             109                   1   \n",
      "2              55055              52                   1   \n",
      "3              46236              34                   1   \n",
      "4              54863               3                   2   \n",
      "\n",
      "    Total Backward Packets  Total Length of Fwd Packets  \\\n",
      "0                        0                           12   \n",
      "1                        1                            6   \n",
      "2                        1                            6   \n",
      "3                        1                            6   \n",
      "4                        0                           12   \n",
      "\n",
      "    Total Length of Bwd Packets   Fwd Packet Length Max  \\\n",
      "0                             0                       6   \n",
      "1                             6                       6   \n",
      "2                             6                       6   \n",
      "3                             6                       6   \n",
      "4                             0                       6   \n",
      "\n",
      "    Fwd Packet Length Min   Fwd Packet Length Mean   Fwd Packet Length Std  \\\n",
      "0                       6                      6.0                     0.0   \n",
      "1                       6                      6.0                     0.0   \n",
      "2                       6                      6.0                     0.0   \n",
      "3                       6                      6.0                     0.0   \n",
      "4                       6                      6.0                     0.0   \n",
      "\n",
      "   ...   min_seg_size_forward  Active Mean   Active Std   Active Max  \\\n",
      "0  ...                     20          0.0          0.0            0   \n",
      "1  ...                     20          0.0          0.0            0   \n",
      "2  ...                     20          0.0          0.0            0   \n",
      "3  ...                     20          0.0          0.0            0   \n",
      "4  ...                     20          0.0          0.0            0   \n",
      "\n",
      "    Active Min  Idle Mean   Idle Std   Idle Max   Idle Min   Label  \n",
      "0            0        0.0        0.0          0          0  BENIGN  \n",
      "1            0        0.0        0.0          0          0  BENIGN  \n",
      "2            0        0.0        0.0          0          0  BENIGN  \n",
      "3            0        0.0        0.0          0          0  BENIGN  \n",
      "4            0        0.0        0.0          0          0  BENIGN  \n",
      "\n",
      "[5 rows x 79 columns]\n"
     ]
    }
   ],
   "source": [
    "# También mostramos las primeras filas del dataset para entender y previsualizar su contenido.\n",
    "print(\"\\n### Primeras filas del dataset:\")\n",
    "print(df.head())"
   ]
  },
  {
   "cell_type": "markdown",
   "metadata": {},
   "source": [
    "# Analisis de las Columnas del Dataset CIC-IDS2017\n",
    "\n",
    "Este dataset contiene múltiples columnas con información detallada sobre el tráfico de red. A continuación, se describen las más relevantes:\n",
    "\n",
    "## 🔹 1. Información sobre el Flujo de Red  \n",
    "- **Destination Port**: Puerto de destino del tráfico.  \n",
    "- **Flow Duration**: Duración total del flujo en milisegundos.  \n",
    "- **Total Fwd Packets**: Número total de paquetes enviados en dirección forward.  \n",
    "- **Total Backward Packets**: Número total de paquetes enviados en dirección backward.  \n",
    "\n",
    "## 🔹 2. Características de los Paquetes  \n",
    "- **Total Length of Fwd Packets**: Longitud total de los paquetes enviados en dirección forward.  \n",
    "- **Total Length of Bwd Packets**: Longitud total de los paquetes enviados en dirección backward.  \n",
    "- **Fwd Packet Length Max / Min / Mean / Std**: Medidas estadísticas de la longitud de los paquetes enviados en forward.  \n",
    "- **Bwd Packet Length Max / Min / Mean / Std**: Medidas estadísticas de la longitud de los paquetes enviados en backward.  \n",
    "\n",
    "## 🔹 3. Estadísticas de Tasa de Flujo  \n",
    "- **Flow Bytes/s**: Número de bytes transmitidos por segundo en el flujo.  \n",
    "- **Flow Packets/s**: Número de paquetes transmitidos por segundo.  \n",
    "- **Flow IAT Mean / Max / Min / Std**: Intervalo de tiempo promedio, máximo, mínimo y desviación estándar entre paquetes en el flujo.  \n",
    "\n",
    "## 🔹 4. Información sobre Flags y Señales de Control  \n",
    "- **SYN Flag Count / FIN Flag Count / RST Flag Count**: Contadores de los flags TCP utilizados en el flujo.  \n",
    "- **PSH Flag Count / ACK Flag Count / URG Flag Count**: Contadores de otros flags de control TCP.  \n",
    "\n",
    "## 🔹 5. Información sobre la Ventana TCP  \n",
    "- **Init_Win_bytes_forward**: Tamaño de la ventana TCP en la dirección forward.  \n",
    "- **Init_Win_bytes_backward**: Tamaño de la ventana TCP en la dirección backward.  \n",
    "\n",
    "## 🔹 6. Estado del Tráfico (Label)  \n",
    "- **Label**: Indica si el tráfico es `BENIGN` (normal) o pertenece a un ataque específico como `DDoS`, `PortScan`, etc.  \n",
    "\n",
    "---\n",
    "**Estas características se utilizarán para entrenar un modelo de IA que pueda detectar patrones de tráfico malicioso en redes.**\n"
   ]
  },
  {
   "cell_type": "code",
   "execution_count": 34,
   "metadata": {},
   "outputs": [
    {
     "name": "stdout",
     "output_type": "stream",
     "text": [
      "\n",
      "### Valores nulos en el dataset:\n",
      "Flow Bytes/s    4\n",
      "dtype: int64\n"
     ]
    }
   ],
   "source": [
    "# Revisamos cuántos valores nulos hay en cada columna.\n",
    "print(\"\\n### Valores nulos en el dataset:\")\n",
    "print(df.isnull().sum()[df.isnull().sum() > 0]) \n"
   ]
  },
  {
   "cell_type": "markdown",
   "metadata": {},
   "source": [
    "**Interpretacion de resultados:**\n",
    "Vemos que solo hay 4 valores nulos en el dataset, por tanto como son pocos valores nulos vamos a eliminarlos del dataset. Si fuesen muchos valores Nan podríamos reemplazarlos por la media de la columna para no borrar mucha información."
   ]
  },
  {
   "cell_type": "code",
   "execution_count": 35,
   "metadata": {},
   "outputs": [
    {
     "name": "stdout",
     "output_type": "stream",
     "text": [
      "\n",
      "### Valores nulos en el dataset:\n",
      "Series([], dtype: int64)\n"
     ]
    }
   ],
   "source": [
    "# Eliminamos las filas que contienen valores nulos.\n",
    "df.dropna(inplace=True)\n",
    "\n",
    "#comprobamos que no haya valores nulos\n",
    "print(\"\\n### Valores nulos en el dataset:\")\n",
    "print(df.isnull().sum()[df.isnull().sum() > 0])\n",
    "\n",
    "df.columns = df.columns.str.strip()  # Elimina espacios en los nombres de columnas\n",
    "\n",
    "\n"
   ]
  },
  {
   "cell_type": "markdown",
   "metadata": {},
   "source": [
    "# Eliminación de Datos Duplicados\n",
    "\n",
    "En el preprocesamiento de datos, es fundamental eliminar los registros duplicados, ya que pueden afectar el rendimiento del modelo de aprendizaje automático. Los duplicados pueden surgir debido a errores en la recopilación de datos o repeticiones en la generación del dataset.\n",
    "\n",
    "## ¿Por qué eliminamos los duplicados?\n",
    "\n",
    "- **Evita sesgos en el entrenamiento**: Si una clase tiene más registros duplicados, el modelo puede sobreajustarse a esos datos y generalizar mal en nuevos casos.\n",
    "- **Optimiza el uso de recursos**: Trabajar con datos redundantes aumenta el consumo de memoria y tiempo de cómputo sin aportar nueva información útil.\n",
    "- **Mejora la calidad del dataset**: Un dataset sin duplicados garantiza que cada muestra contribuye con información única al modelo, favoreciendo su capacidad de aprendizaje.\n",
    "\n",
    "En este proceso, identificamos y eliminamos registros duplicados utilizando la función `drop_duplicates()`, asegurando que el dataset final contenga únicamente datos relevantes y sin repeticiones innecesarias.\n"
   ]
  },
  {
   "cell_type": "code",
   "execution_count": 36,
   "metadata": {},
   "outputs": [
    {
     "name": "stdout",
     "output_type": "stream",
     "text": [
      "\n",
      "### Cantidad de datos duplicados antes de eliminarlos: 2633\n",
      "Cantidad de datos duplicados después de eliminarlos: 0\n"
     ]
    }
   ],
   "source": [
    "# ## 4️⃣ Eliminación de Datos Duplicados\n",
    "# Algunos registros pueden estar duplicados, lo que afectaría el análisis.\n",
    "print(\"\\n### Cantidad de datos duplicados antes de eliminarlos:\", df.duplicated().sum())\n",
    "df.drop_duplicates(inplace=True)\n",
    "print(\"Cantidad de datos duplicados después de eliminarlos:\", df.duplicated().sum())\n"
   ]
  },
  {
   "cell_type": "markdown",
   "metadata": {},
   "source": [
    "# Conversión de Datos Categóricos\n",
    "\n",
    "En los modelos de aprendizaje automático, es necesario que todas las variables sean numéricas, ya que la mayoría de los algoritmos no pueden procesar datos en formato de texto. En este dataset, la columna `Label` indica si el tráfico es benigno o corresponde a un ataque, pero está representada como valores categóricos en texto (`BENIGN`, `DDoS`, etc.).\n",
    "\n",
    "## ¿Por qué convertimos los datos categóricos?\n",
    "\n",
    "- **Compatibilidad con modelos de IA**: La mayoría de los algoritmos de aprendizaje automático solo funcionan con datos numéricos.\n",
    "- **Estandarización del dataset**: Facilita la comparación entre distintas clases dentro del modelo.\n",
    "- **Optimización del procesamiento**: Representar los valores categóricos como números reduce el tiempo de cómputo.\n",
    "\n",
    "Para esta conversión, se utiliza `LabelEncoder()`, que asigna un número a cada categoría, permitiendo que el modelo pueda interpretar correctamente la variable `Label` sin perder información.\n"
   ]
  },
  {
   "cell_type": "code",
   "execution_count": 37,
   "metadata": {},
   "outputs": [
    {
     "name": "stdout",
     "output_type": "stream",
     "text": [
      "\n",
      "### Columna 'Label' después de la conversión:\n",
      "Label\n",
      "1    128016\n",
      "0     95092\n",
      "Name: count, dtype: int64\n"
     ]
    }
   ],
   "source": [
    "# ## 5️⃣ Conversión de Datos Categóricos\n",
    "# La columna 'Label' indica si el tráfico es benigno o un ataque. Convertimos los valores de texto a números.\n",
    "df['Label'] = df['Label'].apply(lambda x: 0 if x == 'BENIGN' else 1)\n",
    "\n",
    "\n",
    "#Comprobamos que se haya hecho la conversión\n",
    "print(\"\\n### Columna 'Label' después de la conversión:\")\n",
    "print(df['Label'].value_counts())"
   ]
  },
  {
   "cell_type": "markdown",
   "metadata": {},
   "source": [
    "# Normalización de Datos Numéricos\n",
    "\n",
    "En el preprocesamiento de datos, es fundamental escalar las variables numéricas para mejorar el rendimiento del modelo de aprendizaje automático. La normalización ayuda a que los modelos sean más estables y precisos, especialmente en algoritmos sensibles a la escala de los datos, como redes neuronales y SVM.\n",
    "\n",
    "## ¿Por qué normalizamos los datos?\n",
    "\n",
    "- **Diferentes escalas pueden afectar el modelo**: Algunas características tienen valores muy grandes (ej. `Flow Bytes/s`), mientras que otras tienen valores pequeños (`Packet Length`). Si no se normalizan, el modelo podría dar más importancia a ciertas variables solo por su magnitud.\n",
    "- **Mejora la convergencia del entrenamiento**: Los modelos basados en gradiente (como redes neuronales) entrenan más rápido y de manera más estable con datos normalizados.\n",
    "- **Evita sesgos en la clasificación**: Al escalar todas las variables a una misma escala, evitamos que unas características dominen sobre otras.\n",
    "\n",
    "## ¿Cómo lo hacemos?\n",
    "\n",
    "Utilizamos `StandardScaler()` de `sklearn.preprocessing`, que transforma los datos para que tengan una media de 0 y desviación estándar de 1. Esto se aplica a todas las columnas numéricas del dataset.\n",
    "\n",
    "Después de este paso, los datos estarán listos para ser utilizados en el modelo de IA sin riesgo de que la escala de los valores afecte negativamente el entrenamiento.\n"
   ]
  },
  {
   "cell_type": "code",
   "execution_count": 38,
   "metadata": {},
   "outputs": [
    {
     "name": "stderr",
     "output_type": "stream",
     "text": [
      "/tmp/ipykernel_12169/2220213856.py:5: FutureWarning: Downcasting object dtype arrays on .fillna, .ffill, .bfill is deprecated and will change in a future version. Call result.infer_objects(copy=False) instead. To opt-in to the future behavior, set `pd.set_option('future.no_silent_downcasting', True)`\n",
      "  df.fillna(df.mean(), inplace=True)\n"
     ]
    },
    {
     "name": "stdout",
     "output_type": "stream",
     "text": [
      "\n",
      "### Valores nulos después de corregir infinitos:\n",
      "0\n",
      "\n",
      "### Normalización completada correctamente.\n"
     ]
    }
   ],
   "source": [
    "# ## 6️⃣ Normalización de Datos Numéricos\n",
    "\n",
    "# Reemplazamos valores infinitos con la media de la columna\n",
    "df.replace([float('inf'), float('-inf')], pd.NA, inplace=True)\n",
    "df.fillna(df.mean(), inplace=True)\n",
    "\n",
    "# Verificamos si aún quedan valores infinitos o nulos después del reemplazo\n",
    "print(\"\\n### Valores nulos después de corregir infinitos:\")\n",
    "print(df.isnull().sum().sum())  # Debería ser 0\n",
    "\n",
    "# Aplicamos StandardScaler para normalizar los datos numéricos\n",
    "scaler = StandardScaler()\n",
    "columnas_numericas = df.select_dtypes(include=['float64', 'int64']).columns\n",
    "df[columnas_numericas] = scaler.fit_transform(df[columnas_numericas])\n",
    "\n",
    "print(\"\\n### Normalización completada correctamente.\")\n"
   ]
  },
  {
   "cell_type": "markdown",
   "metadata": {},
   "source": []
  },
  {
   "cell_type": "code",
   "execution_count": 39,
   "metadata": {},
   "outputs": [
    {
     "name": "stdout",
     "output_type": "stream",
     "text": [
      "\n",
      "### Dataset limpio guardado en: archive/cleaned_dataset.csv\n"
     ]
    }
   ],
   "source": [
    "# ## 7️⃣ Guardar Dataset Limpio\n",
    "# Finalmente, guardamos el dataset limpio en un nuevo archivo CSV.\n",
    "cleaned_file_path = \"archive/cleaned_dataset.csv\"\n",
    "df.to_csv(cleaned_file_path, index=False)\n",
    "print(f\"\\n### Dataset limpio guardado en: {cleaned_file_path}\")\n"
   ]
  }
 ],
 "metadata": {
  "kernelspec": {
   "display_name": "Python 3",
   "language": "python",
   "name": "python3"
  },
  "language_info": {
   "codemirror_mode": {
    "name": "ipython",
    "version": 3
   },
   "file_extension": ".py",
   "mimetype": "text/x-python",
   "name": "python",
   "nbconvert_exporter": "python",
   "pygments_lexer": "ipython3",
   "version": "3.10.12"
  }
 },
 "nbformat": 4,
 "nbformat_minor": 2
}
